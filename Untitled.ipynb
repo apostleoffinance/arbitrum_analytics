{
 "cells": [
  {
   "cell_type": "code",
   "execution_count": 1,
   "id": "de5e372f",
   "metadata": {},
   "outputs": [
    {
     "name": "stdout",
     "output_type": "stream",
     "text": [
      "{'Meta Data': {'1. Information': 'Monthly Prices and Volumes for Digital Currency', '2. Digital Currency Code': 'BTC', '3. Digital Currency Name': 'Bitcoin', '4. Market Code': 'EUR', '5. Market Name': 'Euro', '6. Last Refreshed': '2024-06-21 00:00:00', '7. Time Zone': 'UTC'}, 'Time Series (Digital Currency Monthly)': {'2024-06-21': {'1. open': '62247.78000000', '2. high': '66132.47000000', '3. low': '59654.85000000', '4. close': '60507.54000000', '5. volume': '5019.14885457'}, '2024-05-31': {'1. open': '56844.50000000', '2. high': '65933.02000000', '3. low': '52943.49000000', '4. close': '62241.35000000', '5. volume': '10995.96700709'}, '2024-04-30': {'1. open': '66093.32000000', '2. high': '67094.17000000', '3. low': '55311.31000000', '4. close': '56852.59000000', '5. volume': '17033.84770520'}, '2024-03-31': {'1. open': '56509.14000000', '2. high': '67467.86000000', '3. low': '48500.00000000', '4. close': '66099.78000000', '5. volume': '23444.80826564'}, '2024-02-29': {'1. open': '39403.42000000', '2. high': '59097.20000000', '3. low': '38738.07000000', '4. close': '56477.23000000', '5. volume': '14900.96327208'}, '2024-01-31': {'1. open': '38418.87000000', '2. high': '44887.99000000', '3. low': '35455.56000000', '4. close': '39410.58000000', '5. volume': '21318.89788200'}, '2023-12-31': {'1. open': '34664.21000000', '2. high': '41582.65000000', '3. low': '34528.37000000', '4. close': '38425.59000000', '5. volume': '19712.99340223'}, '2023-11-30': {'1. open': '32762.07000000', '2. high': '35474.28000000', '3. low': '31990.40000000', '4. close': '34649.51000000', '5. volume': '14710.61856516'}, '2023-10-31': {'1. open': '25502.27000000', '2. high': '33224.68000000', '3. low': '25068.93000000', '4. close': '32769.07000000', '5. volume': '14517.20155320'}, '2023-09-30': {'1. open': '23912.49000000', '2. high': '25800.00000000', '3. low': '23175.00000000', '4. close': '25505.25000000', '5. volume': '10421.42929628'}}}\n"
     ]
    }
   ],
   "source": [
    "import requests\n",
    "\n",
    "# replace the \"demo\" apikey below with your own key from https://www.alphavantage.co/support/#api-key\n",
    "url = 'https://www.alphavantage.co/query?function=DIGITAL_CURRENCY_MONTHLY&symbol=BTC&market=EUR&apikey=HS8ODPEEV8QKQ771'\n",
    "r = requests.get(url)\n",
    "data = r.json()\n",
    "\n",
    "print(data)"
   ]
  },
  {
   "cell_type": "code",
   "execution_count": 2,
   "id": "b6558e42",
   "metadata": {},
   "outputs": [
    {
     "name": "stderr",
     "output_type": "stream",
     "text": [
      "/Users/olaoluwatunmise/opt/anaconda3/lib/python3.9/site-packages/pandas/core/computation/expressions.py:21: UserWarning: Pandas requires version '2.8.4' or newer of 'numexpr' (version '2.8.1' currently installed).\n",
      "  from pandas.core.computation.check import NUMEXPR_INSTALLED\n",
      "/Users/olaoluwatunmise/opt/anaconda3/lib/python3.9/site-packages/pandas/core/arrays/masked.py:60: UserWarning: Pandas requires version '1.3.6' or newer of 'bottleneck' (version '1.3.4' currently installed).\n",
      "  from pandas.core import (\n"
     ]
    },
    {
     "data": {
      "text/html": [
       "<div>\n",
       "<style scoped>\n",
       "    .dataframe tbody tr th:only-of-type {\n",
       "        vertical-align: middle;\n",
       "    }\n",
       "\n",
       "    .dataframe tbody tr th {\n",
       "        vertical-align: top;\n",
       "    }\n",
       "\n",
       "    .dataframe thead th {\n",
       "        text-align: right;\n",
       "    }\n",
       "</style>\n",
       "<table border=\"1\" class=\"dataframe\">\n",
       "  <thead>\n",
       "    <tr style=\"text-align: right;\">\n",
       "      <th></th>\n",
       "      <th>Meta Data</th>\n",
       "      <th>Time Series (Digital Currency Monthly)</th>\n",
       "    </tr>\n",
       "  </thead>\n",
       "  <tbody>\n",
       "    <tr>\n",
       "      <th>1. Information</th>\n",
       "      <td>Monthly Prices and Volumes for Digital Currency</td>\n",
       "      <td>NaN</td>\n",
       "    </tr>\n",
       "    <tr>\n",
       "      <th>2. Digital Currency Code</th>\n",
       "      <td>BTC</td>\n",
       "      <td>NaN</td>\n",
       "    </tr>\n",
       "    <tr>\n",
       "      <th>3. Digital Currency Name</th>\n",
       "      <td>Bitcoin</td>\n",
       "      <td>NaN</td>\n",
       "    </tr>\n",
       "    <tr>\n",
       "      <th>4. Market Code</th>\n",
       "      <td>EUR</td>\n",
       "      <td>NaN</td>\n",
       "    </tr>\n",
       "    <tr>\n",
       "      <th>5. Market Name</th>\n",
       "      <td>Euro</td>\n",
       "      <td>NaN</td>\n",
       "    </tr>\n",
       "    <tr>\n",
       "      <th>6. Last Refreshed</th>\n",
       "      <td>2024-06-21 00:00:00</td>\n",
       "      <td>NaN</td>\n",
       "    </tr>\n",
       "    <tr>\n",
       "      <th>7. Time Zone</th>\n",
       "      <td>UTC</td>\n",
       "      <td>NaN</td>\n",
       "    </tr>\n",
       "    <tr>\n",
       "      <th>2024-06-21</th>\n",
       "      <td>NaN</td>\n",
       "      <td>{'1. open': '62247.78000000', '2. high': '6613...</td>\n",
       "    </tr>\n",
       "    <tr>\n",
       "      <th>2024-05-31</th>\n",
       "      <td>NaN</td>\n",
       "      <td>{'1. open': '56844.50000000', '2. high': '6593...</td>\n",
       "    </tr>\n",
       "    <tr>\n",
       "      <th>2024-04-30</th>\n",
       "      <td>NaN</td>\n",
       "      <td>{'1. open': '66093.32000000', '2. high': '6709...</td>\n",
       "    </tr>\n",
       "    <tr>\n",
       "      <th>2024-03-31</th>\n",
       "      <td>NaN</td>\n",
       "      <td>{'1. open': '56509.14000000', '2. high': '6746...</td>\n",
       "    </tr>\n",
       "    <tr>\n",
       "      <th>2024-02-29</th>\n",
       "      <td>NaN</td>\n",
       "      <td>{'1. open': '39403.42000000', '2. high': '5909...</td>\n",
       "    </tr>\n",
       "    <tr>\n",
       "      <th>2024-01-31</th>\n",
       "      <td>NaN</td>\n",
       "      <td>{'1. open': '38418.87000000', '2. high': '4488...</td>\n",
       "    </tr>\n",
       "    <tr>\n",
       "      <th>2023-12-31</th>\n",
       "      <td>NaN</td>\n",
       "      <td>{'1. open': '34664.21000000', '2. high': '4158...</td>\n",
       "    </tr>\n",
       "    <tr>\n",
       "      <th>2023-11-30</th>\n",
       "      <td>NaN</td>\n",
       "      <td>{'1. open': '32762.07000000', '2. high': '3547...</td>\n",
       "    </tr>\n",
       "    <tr>\n",
       "      <th>2023-10-31</th>\n",
       "      <td>NaN</td>\n",
       "      <td>{'1. open': '25502.27000000', '2. high': '3322...</td>\n",
       "    </tr>\n",
       "    <tr>\n",
       "      <th>2023-09-30</th>\n",
       "      <td>NaN</td>\n",
       "      <td>{'1. open': '23912.49000000', '2. high': '2580...</td>\n",
       "    </tr>\n",
       "  </tbody>\n",
       "</table>\n",
       "</div>"
      ],
      "text/plain": [
       "                                                                Meta Data  \\\n",
       "1. Information            Monthly Prices and Volumes for Digital Currency   \n",
       "2. Digital Currency Code                                              BTC   \n",
       "3. Digital Currency Name                                          Bitcoin   \n",
       "4. Market Code                                                        EUR   \n",
       "5. Market Name                                                       Euro   \n",
       "6. Last Refreshed                                     2024-06-21 00:00:00   \n",
       "7. Time Zone                                                          UTC   \n",
       "2024-06-21                                                            NaN   \n",
       "2024-05-31                                                            NaN   \n",
       "2024-04-30                                                            NaN   \n",
       "2024-03-31                                                            NaN   \n",
       "2024-02-29                                                            NaN   \n",
       "2024-01-31                                                            NaN   \n",
       "2023-12-31                                                            NaN   \n",
       "2023-11-30                                                            NaN   \n",
       "2023-10-31                                                            NaN   \n",
       "2023-09-30                                                            NaN   \n",
       "\n",
       "                                     Time Series (Digital Currency Monthly)  \n",
       "1. Information                                                          NaN  \n",
       "2. Digital Currency Code                                                NaN  \n",
       "3. Digital Currency Name                                                NaN  \n",
       "4. Market Code                                                          NaN  \n",
       "5. Market Name                                                          NaN  \n",
       "6. Last Refreshed                                                       NaN  \n",
       "7. Time Zone                                                            NaN  \n",
       "2024-06-21                {'1. open': '62247.78000000', '2. high': '6613...  \n",
       "2024-05-31                {'1. open': '56844.50000000', '2. high': '6593...  \n",
       "2024-04-30                {'1. open': '66093.32000000', '2. high': '6709...  \n",
       "2024-03-31                {'1. open': '56509.14000000', '2. high': '6746...  \n",
       "2024-02-29                {'1. open': '39403.42000000', '2. high': '5909...  \n",
       "2024-01-31                {'1. open': '38418.87000000', '2. high': '4488...  \n",
       "2023-12-31                {'1. open': '34664.21000000', '2. high': '4158...  \n",
       "2023-11-30                {'1. open': '32762.07000000', '2. high': '3547...  \n",
       "2023-10-31                {'1. open': '25502.27000000', '2. high': '3322...  \n",
       "2023-09-30                {'1. open': '23912.49000000', '2. high': '2580...  "
      ]
     },
     "execution_count": 2,
     "metadata": {},
     "output_type": "execute_result"
    }
   ],
   "source": [
    "import pandas as pd\n",
    "\n",
    "crypto_data = pd.DataFrame(data)\n",
    "crypto_data"
   ]
  },
  {
   "cell_type": "code",
   "execution_count": 4,
   "id": "f94bb27d",
   "metadata": {},
   "outputs": [
    {
     "name": "stdout",
     "output_type": "stream",
     "text": [
      "<class 'pandas.core.frame.DataFrame'>\n",
      "Index: 17 entries, 1. Information to 2023-09-30\n",
      "Data columns (total 2 columns):\n",
      " #   Column                                  Non-Null Count  Dtype \n",
      "---  ------                                  --------------  ----- \n",
      " 0   Meta Data                               7 non-null      object\n",
      " 1   Time Series (Digital Currency Monthly)  10 non-null     object\n",
      "dtypes: object(2)\n",
      "memory usage: 408.0+ bytes\n"
     ]
    }
   ],
   "source": [
    "crypto_data.info()"
   ]
  },
  {
   "cell_type": "code",
   "execution_count": 5,
   "id": "a05c759b",
   "metadata": {},
   "outputs": [
    {
     "data": {
      "text/plain": [
       "34"
      ]
     },
     "execution_count": 5,
     "metadata": {},
     "output_type": "execute_result"
    }
   ],
   "source": [
    "crypto_data.size"
   ]
  },
  {
   "cell_type": "code",
   "execution_count": 6,
   "id": "37b07d54",
   "metadata": {},
   "outputs": [],
   "source": [
    "crypto_data.to_csv(\"crypto_data\")\n"
   ]
  },
  {
   "cell_type": "code",
   "execution_count": null,
   "id": "8bc18c92",
   "metadata": {},
   "outputs": [],
   "source": []
  }
 ],
 "metadata": {
  "kernelspec": {
   "display_name": "Python 3 (ipykernel)",
   "language": "python",
   "name": "python3"
  },
  "language_info": {
   "codemirror_mode": {
    "name": "ipython",
    "version": 3
   },
   "file_extension": ".py",
   "mimetype": "text/x-python",
   "name": "python",
   "nbconvert_exporter": "python",
   "pygments_lexer": "ipython3",
   "version": "3.9.12"
  }
 },
 "nbformat": 4,
 "nbformat_minor": 5
}

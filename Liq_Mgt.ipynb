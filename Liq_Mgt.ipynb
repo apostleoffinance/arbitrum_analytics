{
 "cells": [
  {
   "cell_type": "code",
   "execution_count": 14,
   "id": "5076a121",
   "metadata": {},
   "outputs": [],
   "source": [
    "# Step 1: Import necessary libraries\n",
    "import pandas as pd\n",
    "import numpy as np\n",
    "import requests\n",
    "from sklearn.model_selection import train_test_split\n",
    "from sklearn.ensemble import RandomForestRegressor\n",
    "from sklearn.metrics import mean_squared_error, mean_absolute_error\n",
    "import matplotlib.pyplot as plt"
   ]
  },
  {
   "cell_type": "code",
   "execution_count": 15,
   "id": "44f1336d",
   "metadata": {},
   "outputs": [
    {
     "name": "stdout",
     "output_type": "stream",
     "text": [
      "Index(['DATE', 'TVLUSD', 'PRICE', 'PRICESTDDEV', 'TRADESCOUNT',\n",
      "       'TRADINGVOLUSD', 'TRADINGVOLUSDLEAD'],\n",
      "      dtype='object')\n"
     ]
    }
   ],
   "source": [
    "# Step 2: Load the dataset from the provided JSON URL\n",
    "url = \"https://flipsidecrypto.xyz/api/v1/queries/df5aac1f-f336-4871-8e02-80071852aed9/data/latest\"\n",
    "\n",
    "# Fetch JSON data using requests\n",
    "response = requests.get(url)\n",
    "\n",
    "# Check if the request was successful\n",
    "if response.status_code == 200:\n",
    "    data = response.json()\n",
    "    df_original = pd.DataFrame(data)\n",
    "else:\n",
    "    print(\"Failed to fetch data. Status code:\", response.status_code)\n",
    "\n",
    "print(df_original.columns)"
   ]
  },
  {
   "cell_type": "code",
   "execution_count": 16,
   "id": "55b590f8",
   "metadata": {},
   "outputs": [
    {
     "data": {
      "text/html": [
       "<div>\n",
       "<style scoped>\n",
       "    .dataframe tbody tr th:only-of-type {\n",
       "        vertical-align: middle;\n",
       "    }\n",
       "\n",
       "    .dataframe tbody tr th {\n",
       "        vertical-align: top;\n",
       "    }\n",
       "\n",
       "    .dataframe thead th {\n",
       "        text-align: right;\n",
       "    }\n",
       "</style>\n",
       "<table border=\"1\" class=\"dataframe\">\n",
       "  <thead>\n",
       "    <tr style=\"text-align: right;\">\n",
       "      <th></th>\n",
       "      <th>DATE</th>\n",
       "      <th>TVLUSD</th>\n",
       "      <th>PRICE</th>\n",
       "      <th>PRICESTDDEV</th>\n",
       "      <th>TRADESCOUNT</th>\n",
       "      <th>TRADINGVOLUSD</th>\n",
       "      <th>TRADINGVOLUSDLEAD</th>\n",
       "      <th>day_of_week</th>\n",
       "      <th>month</th>\n",
       "      <th>day_of_month</th>\n",
       "    </tr>\n",
       "  </thead>\n",
       "  <tbody>\n",
       "    <tr>\n",
       "      <th>0</th>\n",
       "      <td>2024-04-17</td>\n",
       "      <td>2.578754e+09</td>\n",
       "      <td>1.140</td>\n",
       "      <td>0.019948</td>\n",
       "      <td>59625</td>\n",
       "      <td>4.152047e+08</td>\n",
       "      <td>NaN</td>\n",
       "      <td>2</td>\n",
       "      <td>4</td>\n",
       "      <td>17</td>\n",
       "    </tr>\n",
       "    <tr>\n",
       "      <th>1</th>\n",
       "      <td>2024-04-16</td>\n",
       "      <td>2.718271e+09</td>\n",
       "      <td>1.140</td>\n",
       "      <td>0.015511</td>\n",
       "      <td>88734</td>\n",
       "      <td>5.708597e+08</td>\n",
       "      <td>4.152047e+08</td>\n",
       "      <td>1</td>\n",
       "      <td>4</td>\n",
       "      <td>16</td>\n",
       "    </tr>\n",
       "    <tr>\n",
       "      <th>2</th>\n",
       "      <td>2024-04-15</td>\n",
       "      <td>2.674556e+09</td>\n",
       "      <td>1.175</td>\n",
       "      <td>0.043068</td>\n",
       "      <td>99134</td>\n",
       "      <td>7.935301e+08</td>\n",
       "      <td>5.708597e+08</td>\n",
       "      <td>0</td>\n",
       "      <td>4</td>\n",
       "      <td>15</td>\n",
       "    </tr>\n",
       "    <tr>\n",
       "      <th>3</th>\n",
       "      <td>2024-04-14</td>\n",
       "      <td>2.556153e+09</td>\n",
       "      <td>1.110</td>\n",
       "      <td>0.046296</td>\n",
       "      <td>107220</td>\n",
       "      <td>9.613617e+08</td>\n",
       "      <td>7.935301e+08</td>\n",
       "      <td>6</td>\n",
       "      <td>4</td>\n",
       "      <td>14</td>\n",
       "    </tr>\n",
       "    <tr>\n",
       "      <th>4</th>\n",
       "      <td>2024-04-13</td>\n",
       "      <td>2.707827e+09</td>\n",
       "      <td>1.160</td>\n",
       "      <td>0.076286</td>\n",
       "      <td>82269</td>\n",
       "      <td>8.095336e+08</td>\n",
       "      <td>9.613617e+08</td>\n",
       "      <td>5</td>\n",
       "      <td>4</td>\n",
       "      <td>13</td>\n",
       "    </tr>\n",
       "  </tbody>\n",
       "</table>\n",
       "</div>"
      ],
      "text/plain": [
       "        DATE        TVLUSD  PRICE  PRICESTDDEV  TRADESCOUNT  TRADINGVOLUSD  \\\n",
       "0 2024-04-17  2.578754e+09  1.140     0.019948        59625   4.152047e+08   \n",
       "1 2024-04-16  2.718271e+09  1.140     0.015511        88734   5.708597e+08   \n",
       "2 2024-04-15  2.674556e+09  1.175     0.043068        99134   7.935301e+08   \n",
       "3 2024-04-14  2.556153e+09  1.110     0.046296       107220   9.613617e+08   \n",
       "4 2024-04-13  2.707827e+09  1.160     0.076286        82269   8.095336e+08   \n",
       "\n",
       "   TRADINGVOLUSDLEAD  day_of_week  month  day_of_month  \n",
       "0                NaN            2      4            17  \n",
       "1       4.152047e+08            1      4            16  \n",
       "2       5.708597e+08            0      4            15  \n",
       "3       7.935301e+08            6      4            14  \n",
       "4       9.613617e+08            5      4            13  "
      ]
     },
     "execution_count": 16,
     "metadata": {},
     "output_type": "execute_result"
    }
   ],
   "source": [
    "# Step 3: Data preprocessing\n",
    "\n",
    "df1 = df_original.copy()\n",
    "\n",
    "#Convert 'DATE' to datetime\n",
    "df1['DATE'] = pd.to_datetime(df1['DATE'])\n",
    "\n",
    "# Extract features from 'DATE'\n",
    "df1['day_of_week'] = df1['DATE'].dt.dayofweek\n",
    "df1['month'] = df1['DATE'].dt.month\n",
    "df1['day_of_month'] = df1['DATE'].dt.day\n",
    "\n",
    "# Drop unnecessary columns \n",
    "#df = df.drop(columns = ['DAYOFMONTH', 'DAYNAME'])\n",
    "\n",
    "df1.head()"
   ]
  },
  {
   "cell_type": "code",
   "execution_count": 17,
   "id": "d8176f7a",
   "metadata": {},
   "outputs": [],
   "source": [
    "# STep 4: Define features (inputs) and target variable (output)\n",
    "# Drop rows where TRADINGVOLUSDLEAD is NaN\n",
    "df = df1.dropna(subset=['TRADINGVOLUSDLEAD'])\n",
    "\n",
    "x = df.drop(columns=['TRADINGVOLUSDLEAD', 'DATE'])  # Features\n",
    "y = df['TRADINGVOLUSDLEAD']  # Target variable\n"
   ]
  },
  {
   "cell_type": "code",
   "execution_count": 18,
   "id": "2425a099",
   "metadata": {
    "scrolled": true
   },
   "outputs": [],
   "source": [
    "#Step 5: Split the dataset into training and testing sets\n",
    "x_train, x_test, y_train, y_test = train_test_split(x,y, test_size = 0.2, random_state = 42)\n"
   ]
  },
  {
   "cell_type": "code",
   "execution_count": 19,
   "id": "43493049",
   "metadata": {},
   "outputs": [
    {
     "data": {
      "text/plain": [
       "RandomForestRegressor(random_state=42)"
      ]
     },
     "execution_count": 19,
     "metadata": {},
     "output_type": "execute_result"
    }
   ],
   "source": [
    "#Step 6 : Model Training\n",
    "model = RandomForestRegressor(n_estimators=100,random_state=42)\n",
    "model.fit(x_train,y_train)"
   ]
  },
  {
   "cell_type": "code",
   "execution_count": 20,
   "id": "208d181a",
   "metadata": {},
   "outputs": [
    {
     "name": "stdout",
     "output_type": "stream",
     "text": [
      "Mean Squared Error: 6.674789814008707e+16\n",
      "Mean Absolute Error: 149670444.95716482\n"
     ]
    }
   ],
   "source": [
    "#Step 7: model evaluation\n",
    "#Predict on the test set\n",
    "y_pred = model.predict(x_test)\n",
    "\n",
    "#Calculate evaluation metrics\n",
    "mse = mean_squared_error(y_test, y_pred)\n",
    "mae = mean_absolute_error(y_test, y_pred)\n",
    "print(\"Mean Squared Error:\", mse)\n",
    "print(\"Mean Absolute Error:\", mae)"
   ]
  },
  {
   "cell_type": "code",
   "execution_count": 21,
   "id": "9ab61ff1",
   "metadata": {},
   "outputs": [
    {
     "data": {
      "image/png": "[encoded data removed]",
      "text/plain": [
       "<Figure size 720x432 with 1 Axes>"
      ]
     },
     "metadata": {
      "needs_background": "light"
     },
     "output_type": "display_data"
    }
   ],
   "source": [
    "#step 8: Visitualization\n",
    "#Plotting actual vs Predicted Values\n",
    "plt.figure(figsize=(10,6))\n",
    "plt.scatter(y_test,y_pred,color='blue')\n",
    "plt.plot([y_test.min(), y_test.max()], [y_test.min(), y_test.max()], 'k--', lw=4)\n",
    "plt.xlabel('Actual')\n",
    "plt.ylabel('Predicted')\n",
    "plt.title('Actual vs Predicted Trading Volume')\n",
    "plt.show()"
   ]
  },
  {
   "cell_type": "code",
   "execution_count": 26,
   "id": "5c65fc3f",
   "metadata": {},
   "outputs": [
    {
     "name": "stdout",
     "output_type": "stream",
     "text": [
      "         TVLUSD  PRICE  PRICESTDDEV  TRADESCOUNT  TRADINGVOLUSD  day_of_week  \\\n",
      "0  2.578754e+09   1.14     0.019948        59625   4.152047e+08            2   \n",
      "\n",
      "   month  day_of_month  \n",
      "0      4            17  \n"
     ]
    }
   ],
   "source": [
    "# Step 9: Prepare today's data for prediction\n",
    "# Get the latest date from the original DataFrame\n",
    "today_date = df1['DATE'].max()\n",
    "\n",
    "# Filter today's data\n",
    "today_data = df1[df1['DATE'] == today_date]\n",
    "\n",
    "# Drop 'TRADINGVOLUMEUSD' and 'DATE' columns\n",
    "today_data = today_data.drop(columns=['TRADINGVOLUSDLEAD', 'DATE'])\n",
    "\n",
    "print(today_data)"
   ]
  },
  {
   "cell_type": "code",
   "execution_count": 28,
   "id": "af361b68",
   "metadata": {},
   "outputs": [
    {
     "name": "stdout",
     "output_type": "stream",
     "text": [
      "Next Day Trading Volume Prediction: [5.10720221e+08]\n",
      "Next Day Trading Volume Prediction: $510,720,221.13\n"
     ]
    }
   ],
   "source": [
    "# Step 10: Predict next day and next week trading volume\n",
    "\n",
    "# Make prediction for next day's trading volume\n",
    "next_day_prediction = model.predict(today_data)\n",
    "\n",
    "# Print prediction\n",
    "print(\"Next Day Trading Volume Prediction:\", next_day_prediction)\n",
    "\n",
    "# Print prediction with formatted number\n",
    "print(\"Next Day Trading Volume Prediction: ${:,.2f}\".format(next_day_prediction[0]))\n"
   ]
  },
  {
   "cell_type": "code",
   "execution_count": 24,
   "id": "650eba17",
   "metadata": {},
   "outputs": [],
   "source": []
  },
  {
   "cell_type": "code",
   "execution_count": null,
   "id": "7066d4bd",
   "metadata": {},
   "outputs": [],
   "source": []
  },
  {
   "cell_type": "code",
   "execution_count": null,
   "id": "a6ae8706",
   "metadata": {},
   "outputs": [],
   "source": []
  },
  {
   "cell_type": "code",
   "execution_count": null,
   "id": "98117c8e",
   "metadata": {},
   "outputs": [],
   "source": []
  },
  {
   "cell_type": "code",
   "execution_count": null,
   "id": "a38d5953",
   "metadata": {},
   "outputs": [],
   "source": []
  }
 ],
 "metadata": {
  "kernelspec": {
   "display_name": "Python 3 (ipykernel)",
   "language": "python",
   "name": "python3"
  },
  "language_info": {
   "codemirror_mode": {
    "name": "ipython",
    "version": 3
   },
   "file_extension": ".py",
   "mimetype": "text/x-python",
   "name": "python",
   "nbconvert_exporter": "python",
   "pygments_lexer": "ipython3",
   "version": "3.9.12"
  }
 },
 "nbformat": 4,
 "nbformat_minor": 5
}

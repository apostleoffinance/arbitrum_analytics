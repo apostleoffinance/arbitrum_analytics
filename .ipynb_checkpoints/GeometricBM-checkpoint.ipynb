{
 "cells": [
  {
   "cell_type": "code",
   "execution_count": 26,
   "metadata": {},
   "outputs": [
    {
     "data": {
      "text/html": [
       "<div>\n",
       "<style scoped>\n",
       "    .dataframe tbody tr th:only-of-type {\n",
       "        vertical-align: middle;\n",
       "    }\n",
       "\n",
       "    .dataframe tbody tr th {\n",
       "        vertical-align: top;\n",
       "    }\n",
       "\n",
       "    .dataframe thead th {\n",
       "        text-align: right;\n",
       "    }\n",
       "</style>\n",
       "<table border=\"1\" class=\"dataframe\">\n",
       "  <thead>\n",
       "    <tr style=\"text-align: right;\">\n",
       "      <th></th>\n",
       "      <th>DATE</th>\n",
       "      <th>PRICE</th>\n",
       "      <th>TOTAL_VOLUME</th>\n",
       "    </tr>\n",
       "  </thead>\n",
       "  <tbody>\n",
       "    <tr>\n",
       "      <th>0</th>\n",
       "      <td>2024-07-09 00:00:00.000</td>\n",
       "      <td>4.507692</td>\n",
       "      <td>447589.40</td>\n",
       "    </tr>\n",
       "    <tr>\n",
       "      <th>1</th>\n",
       "      <td>2024-07-08 00:00:00.000</td>\n",
       "      <td>4.473750</td>\n",
       "      <td>1194155.73</td>\n",
       "    </tr>\n",
       "    <tr>\n",
       "      <th>2</th>\n",
       "      <td>2024-07-07 00:00:00.000</td>\n",
       "      <td>4.679167</td>\n",
       "      <td>960226.53</td>\n",
       "    </tr>\n",
       "    <tr>\n",
       "      <th>3</th>\n",
       "      <td>2024-07-06 00:00:00.000</td>\n",
       "      <td>4.573750</td>\n",
       "      <td>494359.08</td>\n",
       "    </tr>\n",
       "    <tr>\n",
       "      <th>4</th>\n",
       "      <td>2024-07-05 00:00:00.000</td>\n",
       "      <td>4.363750</td>\n",
       "      <td>1655080.34</td>\n",
       "    </tr>\n",
       "    <tr>\n",
       "      <th>...</th>\n",
       "      <td>...</td>\n",
       "      <td>...</td>\n",
       "      <td>...</td>\n",
       "    </tr>\n",
       "    <tr>\n",
       "      <th>1030</th>\n",
       "      <td>2021-09-13 00:00:00.000</td>\n",
       "      <td>8.334774</td>\n",
       "      <td>1775871.63</td>\n",
       "    </tr>\n",
       "    <tr>\n",
       "      <th>1031</th>\n",
       "      <td>2021-09-12 00:00:00.000</td>\n",
       "      <td>9.009154</td>\n",
       "      <td>1548925.81</td>\n",
       "    </tr>\n",
       "    <tr>\n",
       "      <th>1032</th>\n",
       "      <td>2021-09-11 00:00:00.000</td>\n",
       "      <td>9.214943</td>\n",
       "      <td>1587581.58</td>\n",
       "    </tr>\n",
       "    <tr>\n",
       "      <th>1033</th>\n",
       "      <td>2021-09-10 00:00:00.000</td>\n",
       "      <td>9.430540</td>\n",
       "      <td>1389352.32</td>\n",
       "    </tr>\n",
       "    <tr>\n",
       "      <th>1034</th>\n",
       "      <td>﻿</td>\n",
       "      <td>NaN</td>\n",
       "      <td>nan</td>\n",
       "    </tr>\n",
       "  </tbody>\n",
       "</table>\n",
       "<p>1035 rows × 3 columns</p>\n",
       "</div>"
      ],
      "text/plain": [
       "                         DATE     PRICE TOTAL_VOLUME\n",
       "0     2024-07-09 00:00:00.000  4.507692    447589.40\n",
       "1     2024-07-08 00:00:00.000  4.473750   1194155.73\n",
       "2     2024-07-07 00:00:00.000  4.679167    960226.53\n",
       "3     2024-07-06 00:00:00.000  4.573750    494359.08\n",
       "4     2024-07-05 00:00:00.000  4.363750   1655080.34\n",
       "...                       ...       ...          ...\n",
       "1030  2021-09-13 00:00:00.000  8.334774   1775871.63\n",
       "1031  2021-09-12 00:00:00.000  9.009154   1548925.81\n",
       "1032  2021-09-11 00:00:00.000  9.214943   1587581.58\n",
       "1033  2021-09-10 00:00:00.000  9.430540   1389352.32\n",
       "1034                        ﻿       NaN          nan\n",
       "\n",
       "[1035 rows x 3 columns]"
      ]
     },
     "execution_count": 26,
     "metadata": {},
     "output_type": "execute_result"
    }
   ],
   "source": [
    "import pandas as pd\n",
    "import matplotlib.pyplot as plt\n",
    "import numpy as np\n",
    "\n",
    "df = pd.read_csv(r\"/Users/olaoluwatunmise/flipside_data_science/near_data.csv\",parse_dates=['DATE'])\n",
    "\n",
    "# Adjust the total_volume to remove scientific notation\n",
    "df['TOTAL_VOLUME'] = df['TOTAL_VOLUME'].apply(lambda x: '{:.2f}'.format(x))\n",
    "df"
   ]
  },
  {
   "cell_type": "code",
   "execution_count": 27,
   "metadata": {},
   "outputs": [
    {
     "name": "stdout",
     "output_type": "stream",
     "text": [
      "Expected Return: 0.0018849854656829402\n",
      "Volatility: 0.04849833078767601\n"
     ]
    }
   ],
   "source": [
    "# Calculate daily returns\n",
    "df['returns'] = df['PRICE'].pct_change().dropna()\n",
    "\n",
    "# Display the first few rows with returns\n",
    "#print(df.head())\n",
    "\n",
    "# Calculate mean and standard deviation of returns\n",
    "mean_return = df['returns'].mean()\n",
    "std_return = df['returns'].std()\n",
    "\n",
    "print(f\"Expected Return: {mean_return}\")\n",
    "print(f\"Volatility: {std_return}\")\n",
    "\n",
    "\n"
   ]
  },
  {
   "cell_type": "code",
   "execution_count": 28,
   "metadata": {},
   "outputs": [
    {
     "data": {
      "image/png": "[encoded data removed]",
      "text/plain": [
       "<Figure size 432x288 with 1 Axes>"
      ]
     },
     "metadata": {
      "needs_background": "light"
     },
     "output_type": "display_data"
    },
    {
     "name": "stdout",
     "output_type": "stream",
     "text": [
      "Final token price after one month: nan\n"
     ]
    }
   ],
   "source": [
    "# Define parameters for the simulation\n",
    "S0 = df['PRICE'].iloc[-1]  # Use the last available price as the initial token price\n",
    "T = 1/12  # Time period of one month (1/12 of a year)\n",
    "N = 30  # Number of days in a month\n",
    "dt = 1 / 365  # Time increment in daily terms (1/365 of a year)\n",
    "\n",
    "# Create a DataFrame to store stock prices\n",
    "simulation_df = pd.DataFrame(index=np.arange(N), columns=[\"PRICE\"])\n",
    "simulation_df[\"PRICE\"][0] = S0\n",
    "\n",
    "# Generate random variables for the Brownian motion\n",
    "rand = np.random.normal(0, 1, N)\n",
    "\n",
    "# Calculate stock prices using GBM formula\n",
    "#for t in range(1, N):\n",
    "   #simulation_df[\"PRICE\"][t] = simulation_df[\"PRICE\"][t-1] * np.exp((mean_return - 0.5 * std_return**2) * dt + std_return * np.sqrt(dt) * rand[t])\n",
    "# Calculate stock prices using GBM formula\n",
    "for t in range(1, N):\n",
    "    simulation_df[\"PRICE\"][t] = simulation_df[\"PRICE\"][t-1] * np.exp((mean_return - 0.5 * std_return**2) * dt + std_return * np.sqrt(dt) * rand[t])\n",
    "\n",
    "\n",
    "# Plot the stock price path\n",
    "plt.plot(simulation_df[\"PRICE\"])\n",
    "plt.title('Token Price Simulation for One Month')\n",
    "plt.xlabel('Day')\n",
    "plt.ylabel('Token Price')\n",
    "plt.show()\n",
    "\n",
    "# Print the final stock price\n",
    "print(f\"Final token price after one month: {simulation_df['PRICE'].iloc[-1]:.2f}\")"
   ]
  }
 ],
 "metadata": {
  "kernelspec": {
   "display_name": "Python 3 (ipykernel)",
   "language": "python",
   "name": "python3"
  },
  "language_info": {
   "codemirror_mode": {
    "name": "ipython",
    "version": 3
   },
   "file_extension": ".py",
   "mimetype": "text/x-python",
   "name": "python",
   "nbconvert_exporter": "python",
   "pygments_lexer": "ipython3",
   "version": "3.9.12"
  }
 },
 "nbformat": 4,
 "nbformat_minor": 2
}
